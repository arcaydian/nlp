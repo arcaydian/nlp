{
  "nbformat": 4,
  "nbformat_minor": 0,
  "metadata": {
    "colab": {
      "provenance": []
    },
    "kernelspec": {
      "name": "python3",
      "display_name": "Python 3"
    },
    "language_info": {
      "name": "python"
    }
  },
  "cells": [
    {
      "cell_type": "code",
      "execution_count": null,
      "metadata": {
        "id": "rXEi6m13pZOS"
      },
      "outputs": [],
      "source": [
        "import spacy"
      ]
    },
    {
      "cell_type": "code",
      "source": [
        "nlp = spacy.load(\"en_core_web_sm\")"
      ],
      "metadata": {
        "id": "JH6sQ82wqGuO"
      },
      "execution_count": null,
      "outputs": []
    },
    {
      "cell_type": "code",
      "source": [
        "nlp.pipe_names"
      ],
      "metadata": {
        "colab": {
          "base_uri": "https://localhost:8080/"
        },
        "id": "Sco7uNVfpdY_",
        "outputId": "3125f052-97ae-4ffc-be82-2ae29d81af83"
      },
      "execution_count": null,
      "outputs": [
        {
          "output_type": "execute_result",
          "data": {
            "text/plain": [
              "['tok2vec', 'tagger', 'parser', 'attribute_ruler', 'lemmatizer', 'ner']"
            ]
          },
          "metadata": {},
          "execution_count": 3
        }
      ]
    },
    {
      "cell_type": "code",
      "source": [
        "nlp.pipeline"
      ],
      "metadata": {
        "colab": {
          "base_uri": "https://localhost:8080/"
        },
        "id": "nLzlEIeqqRUN",
        "outputId": "42f77798-7887-4d0b-e7f1-9ccbc5d6648a"
      },
      "execution_count": null,
      "outputs": [
        {
          "output_type": "execute_result",
          "data": {
            "text/plain": [
              "[('tok2vec', <spacy.pipeline.tok2vec.Tok2Vec at 0x7f7b8f26fe20>),\n",
              " ('tagger', <spacy.pipeline.tagger.Tagger at 0x7f7b8f038ac0>),\n",
              " ('parser', <spacy.pipeline.dep_parser.DependencyParser at 0x7f7b8f3a86d0>),\n",
              " ('attribute_ruler',\n",
              "  <spacy.pipeline.attributeruler.AttributeRuler at 0x7f7b8f017740>),\n",
              " ('lemmatizer',\n",
              "  <spacy.lang.en.lemmatizer.EnglishLemmatizer at 0x7f7b8f2a00c0>),\n",
              " ('ner', <spacy.pipeline.ner.EntityRecognizer at 0x7f7b8f3a8970>)]"
            ]
          },
          "metadata": {},
          "execution_count": 4
        }
      ]
    },
    {
      "cell_type": "code",
      "source": [
        "doc = nlp(\"Captain america is a clown with 100 $ plate. Marvel is and will be for kids.\")\n",
        "\n",
        "for token in doc:\n",
        "  print(token.text, \"|\", token.pos_, \"|\", token.lemma_)"
      ],
      "metadata": {
        "colab": {
          "base_uri": "https://localhost:8080/"
        },
        "id": "HRxHNuVwqbIT",
        "outputId": "4fa4bbeb-8dcd-41c2-a2ba-163958c90e5b"
      },
      "execution_count": null,
      "outputs": [
        {
          "output_type": "stream",
          "name": "stdout",
          "text": [
            "Captain | PROPN | Captain\n",
            "america | PROPN | america\n",
            "is | AUX | be\n",
            "a | DET | a\n",
            "clown | NOUN | clown\n",
            "with | ADP | with\n",
            "100 | NUM | 100\n",
            "$ | SYM | $\n",
            "plate | NOUN | plate\n",
            ". | PUNCT | .\n",
            "Marvel | PROPN | Marvel\n",
            "is | AUX | be\n",
            "and | CCONJ | and\n",
            "will | AUX | will\n",
            "be | AUX | be\n",
            "for | ADP | for\n",
            "kids | NOUN | kid\n",
            ". | PUNCT | .\n"
          ]
        }
      ]
    },
    {
      "cell_type": "code",
      "source": [
        "doc = nlp(\"Tesla Org will buy Twitter for $45 Billion\")\n",
        "\n",
        "for entity in doc.ents:\n",
        "  print(entity.text, \"|\", entity.label_, \"|\", spacy.explain(entity.label_))"
      ],
      "metadata": {
        "colab": {
          "base_uri": "https://localhost:8080/"
        },
        "id": "sY1En9o1q7Mt",
        "outputId": "cf7a37dd-d87f-4e94-ea97-0f57b9a95970"
      },
      "execution_count": null,
      "outputs": [
        {
          "output_type": "stream",
          "name": "stdout",
          "text": [
            "Tesla Org | ORG | Companies, agencies, institutions, etc.\n",
            "$45 Billion | MONEY | Monetary values, including unit\n"
          ]
        }
      ]
    },
    {
      "cell_type": "code",
      "source": [
        "from spacy import displacy\n",
        "\n",
        "displacy.render(doc, style=\"ent\")"
      ],
      "metadata": {
        "colab": {
          "base_uri": "https://localhost:8080/",
          "height": 88
        },
        "id": "aBvmFJrjsFQy",
        "outputId": "6620f27d-3dba-48f2-aae7-071f26321659"
      },
      "execution_count": null,
      "outputs": [
        {
          "output_type": "execute_result",
          "data": {
            "text/plain": [
              "'<div class=\"entities\" style=\"line-height: 2.5; direction: ltr\">\\n<mark class=\"entity\" style=\"background: #7aecec; padding: 0.45em 0.6em; margin: 0 0.25em; line-height: 1; border-radius: 0.35em;\">\\n    Tesla Org\\n    <span style=\"font-size: 0.8em; font-weight: bold; line-height: 1; border-radius: 0.35em; vertical-align: middle; margin-left: 0.5rem\">ORG</span>\\n</mark>\\n will buy Twitter for \\n<mark class=\"entity\" style=\"background: #e4e7d2; padding: 0.45em 0.6em; margin: 0 0.25em; line-height: 1; border-radius: 0.35em;\">\\n    $45 Billion\\n    <span style=\"font-size: 0.8em; font-weight: bold; line-height: 1; border-radius: 0.35em; vertical-align: middle; margin-left: 0.5rem\">MONEY</span>\\n</mark>\\n</div>'"
            ],
            "application/vnd.google.colaboratory.intrinsic+json": {
              "type": "string"
            }
          },
          "metadata": {},
          "execution_count": 7
        }
      ]
    },
    {
      "cell_type": "markdown",
      "source": [
        "## Pipeline with only important features required for our task"
      ],
      "metadata": {
        "id": "9EWJoTEtHwEj"
      }
    },
    {
      "cell_type": "code",
      "source": [
        "source_nlp = spacy.load(\"en_core_web_sm\")\n",
        "\n",
        "nlp = spacy.blank(\"en\")\n",
        "\n",
        "nlp.add_pipe(\"ner\", source=source_nlp)\n",
        "nlp.pipe_names"
      ],
      "metadata": {
        "id": "iXgQdfzBs36r",
        "colab": {
          "base_uri": "https://localhost:8080/"
        },
        "outputId": "443908fd-e08e-4c43-d89d-64cf37a12f86"
      },
      "execution_count": null,
      "outputs": [
        {
          "output_type": "execute_result",
          "data": {
            "text/plain": [
              "['ner']"
            ]
          },
          "metadata": {},
          "execution_count": 8
        }
      ]
    },
    {
      "cell_type": "code",
      "source": [
        "doc = nlp(\"Tesla Org will buy GE for $45 Billion after Musk's approval\")\n",
        "\n",
        "for entity in doc.ents:\n",
        "  print(entity.text, \"|\", entity.label_, \"|\", spacy.explain(entity.label_))"
      ],
      "metadata": {
        "colab": {
          "base_uri": "https://localhost:8080/"
        },
        "id": "BShVIkWdIOdf",
        "outputId": "cbb20cde-20bb-45cd-d814-e6ae947c9b81"
      },
      "execution_count": null,
      "outputs": [
        {
          "output_type": "stream",
          "name": "stdout",
          "text": [
            "Tesla Org | ORG | Companies, agencies, institutions, etc.\n",
            "GE | ORG | Companies, agencies, institutions, etc.\n",
            "$45 Billion | MONEY | Monetary values, including unit\n",
            "Musk | PERSON | People, including fictional\n"
          ]
        }
      ]
    },
    {
      "cell_type": "code",
      "source": [],
      "metadata": {
        "id": "WPQNzNmPIZfN"
      },
      "execution_count": null,
      "outputs": []
    }
  ]
}